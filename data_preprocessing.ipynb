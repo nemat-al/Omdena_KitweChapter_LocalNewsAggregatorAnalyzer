{
  "nbformat": 4,
  "nbformat_minor": 0,
  "metadata": {
    "colab": {
      "provenance": [],
      "mount_file_id": "1h4cXls8mt_pBEoknSnkbZFp01VZbfSpM",
      "authorship_tag": "ABX9TyOUVI+4ZY0Sp5xjLsmuZH3v",
      "include_colab_link": true
    },
    "kernelspec": {
      "name": "python3",
      "display_name": "Python 3"
    },
    "language_info": {
      "name": "python"
    }
  },
  "cells": [
    {
      "cell_type": "markdown",
      "metadata": {
        "id": "view-in-github",
        "colab_type": "text"
      },
      "source": [
        "<a href=\"https://colab.research.google.com/github/nemat-al/Omdena_KitweChapter_LocalNewsAggregatorAnalyzer/blob/main/data_preprocessing.ipynb\" target=\"_parent\"><img src=\"https://colab.research.google.com/assets/colab-badge.svg\" alt=\"Open In Colab\"/></a>"
      ]
    },
    {
      "cell_type": "markdown",
      "source": [
        "\n",
        "Trying to push to dagshub\n",
        "```\n",
        "# Installation of DagsHub\n",
        "%pip install -q dagshub\n",
        "# Cloning\n",
        "!git clone https://dagshub.com/Omdena/KitweChapter_LocalNewsAggregatorAnalyzer.git\n",
        "# Moving to the respository folder\n",
        "%cd /content/KitweChapter_LocalNewsAggregatorAnalyzer\n",
        "!git add .\n",
        "!git commit -m \"Data Preprocseeing\"\n",
        "!git push origin main\n",
        "```\n",
        "\n"
      ],
      "metadata": {
        "id": "YORHRfjfahrG"
      }
    },
    {
      "cell_type": "markdown",
      "source": [
        "### Libraries"
      ],
      "metadata": {
        "id": "BfAv-9t4T6r_"
      }
    },
    {
      "cell_type": "code",
      "source": [
        "import pandas as pd\n",
        "import csv\n",
        "import string\n",
        "import nltk\n",
        "from nltk.corpus import wordnet, words\n",
        "import re\n",
        "from nltk.tokenize import word_tokenize\n",
        "from nltk.corpus import stopwords\n",
        "from nltk.stem import WordNetLemmatizer"
      ],
      "metadata": {
        "id": "CGjvYQCwVM8l"
      },
      "execution_count": 13,
      "outputs": []
    },
    {
      "cell_type": "code",
      "source": [
        "import nltk\n",
        "nltk.download('stopwords')\n",
        "nltk.download('punkt')\n",
        "nltk.download('wordnet')"
      ],
      "metadata": {
        "colab": {
          "base_uri": "https://localhost:8080/"
        },
        "id": "18EPXMcbYu7q",
        "outputId": "a3acbc72-ce76-412e-b005-b0d2f6d17751"
      },
      "execution_count": 14,
      "outputs": [
        {
          "output_type": "stream",
          "name": "stderr",
          "text": [
            "[nltk_data] Downloading package stopwords to /root/nltk_data...\n",
            "[nltk_data]   Unzipping corpora/stopwords.zip.\n",
            "[nltk_data] Downloading package punkt to /root/nltk_data...\n",
            "[nltk_data]   Unzipping tokenizers/punkt.zip.\n",
            "[nltk_data] Downloading package wordnet to /root/nltk_data...\n"
          ]
        },
        {
          "output_type": "execute_result",
          "data": {
            "text/plain": [
              "True"
            ]
          },
          "metadata": {},
          "execution_count": 14
        }
      ]
    },
    {
      "cell_type": "markdown",
      "source": [
        "### Reading Dataset"
      ],
      "metadata": {
        "id": "Nx8ALw_v-hlg"
      }
    },
    {
      "cell_type": "markdown",
      "source": [
        "Treating the Google Sheet similar to a CSV file and load it directly into a Pandas DataFrame using the Google Sheets link and a bit of URL manipulation (changing the `edit?usp=sharing` to `edit?usp=sharing`)"
      ],
      "metadata": {
        "id": "xw1Q1Ntb3YS1"
      }
    },
    {
      "cell_type": "code",
      "source": [
        "import pandas as pd\n",
        "\n",
        "# Google Sheets URL (Modified for CSV export)\n",
        "url = 'https://docs.google.com/spreadsheets/d/10bnfKtE32i15SqDKXtgJcBQdhH8aVuV5QBe3s6u1inY/export?format=csv'\n",
        "\n",
        "# Load the data into a pandas DataFrame\n",
        "data = pd.read_csv(url)\n",
        "\n",
        "# Display the first few rows of the data\n",
        "data.head()\n"
      ],
      "metadata": {
        "colab": {
          "base_uri": "https://localhost:8080/",
          "height": 293
        },
        "id": "wO4Hsbv-3Hbt",
        "outputId": "cd62ac56-7182-41ad-9dc0-51685ee714f5"
      },
      "execution_count": 15,
      "outputs": [
        {
          "output_type": "execute_result",
          "data": {
            "text/plain": [
              "              Source         Category  \\\n",
              "0  Daily Mail Zambia  Headlines, News   \n",
              "1  Daily Mail Zambia  Headlines, News   \n",
              "2  Daily Mail Zambia  Headlines, News   \n",
              "3  Daily Mail Zambia  Headlines, News   \n",
              "4  Daily Mail Zambia  Headlines, News   \n",
              "\n",
              "                                            Headline  \\\n",
              "0                K8 million CBU hall building starts   \n",
              "1  Exercise aimed at recruiting 300,000 members i...   \n",
              "2                K8 million CBU hall building starts   \n",
              "3  Exercise aimed at recruiting 300,000 members i...   \n",
              "4                K8 million CBU hall building starts   \n",
              "\n",
              "                                                Link  \\\n",
              "0  https://www.daily-mail.co.zm/2024/10/15/k8-mil...   \n",
              "1  https://www.daily-mail.co.zm/2024/10/15/exerci...   \n",
              "2  https://www.daily-mail.co.zm/2024/10/15/k8-mil...   \n",
              "3  https://www.daily-mail.co.zm/2024/10/15/exerci...   \n",
              "4  https://www.daily-mail.co.zm/2024/10/15/k8-mil...   \n",
              "\n",
              "                                         Description  \\\n",
              "0  MWILA NTAMBI Kitwe COPPERBELT University (CBU)...   \n",
              "1  MELODY MUPETA Kitwe THE United Party for Natio...   \n",
              "2  MWILA NTAMBI Kitwe COPPERBELT University (CBU)...   \n",
              "3  MELODY MUPETA Kitwe THE United Party for Natio...   \n",
              "4  MWILA NTAMBI Kitwe COPPERBELT University (CBU)...   \n",
              "\n",
              "                              Date          Author  \n",
              "0  Tue, 15 Oct 2024 06:41:52 +0000  Website Editor  \n",
              "1  Tue, 15 Oct 2024 06:17:07 +0000  Website Editor  \n",
              "2  Tue, 15 Oct 2024 06:41:52 +0000  Website Editor  \n",
              "3  Tue, 15 Oct 2024 06:17:07 +0000  Website Editor  \n",
              "4  Tue, 15 Oct 2024 06:41:52 +0000  Website Editor  "
            ],
            "text/html": [
              "\n",
              "  <div id=\"df-95ae8bf5-3729-4061-9035-5092f81eb478\" class=\"colab-df-container\">\n",
              "    <div>\n",
              "<style scoped>\n",
              "    .dataframe tbody tr th:only-of-type {\n",
              "        vertical-align: middle;\n",
              "    }\n",
              "\n",
              "    .dataframe tbody tr th {\n",
              "        vertical-align: top;\n",
              "    }\n",
              "\n",
              "    .dataframe thead th {\n",
              "        text-align: right;\n",
              "    }\n",
              "</style>\n",
              "<table border=\"1\" class=\"dataframe\">\n",
              "  <thead>\n",
              "    <tr style=\"text-align: right;\">\n",
              "      <th></th>\n",
              "      <th>Source</th>\n",
              "      <th>Category</th>\n",
              "      <th>Headline</th>\n",
              "      <th>Link</th>\n",
              "      <th>Description</th>\n",
              "      <th>Date</th>\n",
              "      <th>Author</th>\n",
              "    </tr>\n",
              "  </thead>\n",
              "  <tbody>\n",
              "    <tr>\n",
              "      <th>0</th>\n",
              "      <td>Daily Mail Zambia</td>\n",
              "      <td>Headlines, News</td>\n",
              "      <td>K8 million CBU hall building starts</td>\n",
              "      <td>https://www.daily-mail.co.zm/2024/10/15/k8-mil...</td>\n",
              "      <td>MWILA NTAMBI Kitwe COPPERBELT University (CBU)...</td>\n",
              "      <td>Tue, 15 Oct 2024 06:41:52 +0000</td>\n",
              "      <td>Website Editor</td>\n",
              "    </tr>\n",
              "    <tr>\n",
              "      <th>1</th>\n",
              "      <td>Daily Mail Zambia</td>\n",
              "      <td>Headlines, News</td>\n",
              "      <td>Exercise aimed at recruiting 300,000 members i...</td>\n",
              "      <td>https://www.daily-mail.co.zm/2024/10/15/exerci...</td>\n",
              "      <td>MELODY MUPETA Kitwe THE United Party for Natio...</td>\n",
              "      <td>Tue, 15 Oct 2024 06:17:07 +0000</td>\n",
              "      <td>Website Editor</td>\n",
              "    </tr>\n",
              "    <tr>\n",
              "      <th>2</th>\n",
              "      <td>Daily Mail Zambia</td>\n",
              "      <td>Headlines, News</td>\n",
              "      <td>K8 million CBU hall building starts</td>\n",
              "      <td>https://www.daily-mail.co.zm/2024/10/15/k8-mil...</td>\n",
              "      <td>MWILA NTAMBI Kitwe COPPERBELT University (CBU)...</td>\n",
              "      <td>Tue, 15 Oct 2024 06:41:52 +0000</td>\n",
              "      <td>Website Editor</td>\n",
              "    </tr>\n",
              "    <tr>\n",
              "      <th>3</th>\n",
              "      <td>Daily Mail Zambia</td>\n",
              "      <td>Headlines, News</td>\n",
              "      <td>Exercise aimed at recruiting 300,000 members i...</td>\n",
              "      <td>https://www.daily-mail.co.zm/2024/10/15/exerci...</td>\n",
              "      <td>MELODY MUPETA Kitwe THE United Party for Natio...</td>\n",
              "      <td>Tue, 15 Oct 2024 06:17:07 +0000</td>\n",
              "      <td>Website Editor</td>\n",
              "    </tr>\n",
              "    <tr>\n",
              "      <th>4</th>\n",
              "      <td>Daily Mail Zambia</td>\n",
              "      <td>Headlines, News</td>\n",
              "      <td>K8 million CBU hall building starts</td>\n",
              "      <td>https://www.daily-mail.co.zm/2024/10/15/k8-mil...</td>\n",
              "      <td>MWILA NTAMBI Kitwe COPPERBELT University (CBU)...</td>\n",
              "      <td>Tue, 15 Oct 2024 06:41:52 +0000</td>\n",
              "      <td>Website Editor</td>\n",
              "    </tr>\n",
              "  </tbody>\n",
              "</table>\n",
              "</div>\n",
              "    <div class=\"colab-df-buttons\">\n",
              "\n",
              "  <div class=\"colab-df-container\">\n",
              "    <button class=\"colab-df-convert\" onclick=\"convertToInteractive('df-95ae8bf5-3729-4061-9035-5092f81eb478')\"\n",
              "            title=\"Convert this dataframe to an interactive table.\"\n",
              "            style=\"display:none;\">\n",
              "\n",
              "  <svg xmlns=\"http://www.w3.org/2000/svg\" height=\"24px\" viewBox=\"0 -960 960 960\">\n",
              "    <path d=\"M120-120v-720h720v720H120Zm60-500h600v-160H180v160Zm220 220h160v-160H400v160Zm0 220h160v-160H400v160ZM180-400h160v-160H180v160Zm440 0h160v-160H620v160ZM180-180h160v-160H180v160Zm440 0h160v-160H620v160Z\"/>\n",
              "  </svg>\n",
              "    </button>\n",
              "\n",
              "  <style>\n",
              "    .colab-df-container {\n",
              "      display:flex;\n",
              "      gap: 12px;\n",
              "    }\n",
              "\n",
              "    .colab-df-convert {\n",
              "      background-color: #E8F0FE;\n",
              "      border: none;\n",
              "      border-radius: 50%;\n",
              "      cursor: pointer;\n",
              "      display: none;\n",
              "      fill: #1967D2;\n",
              "      height: 32px;\n",
              "      padding: 0 0 0 0;\n",
              "      width: 32px;\n",
              "    }\n",
              "\n",
              "    .colab-df-convert:hover {\n",
              "      background-color: #E2EBFA;\n",
              "      box-shadow: 0px 1px 2px rgba(60, 64, 67, 0.3), 0px 1px 3px 1px rgba(60, 64, 67, 0.15);\n",
              "      fill: #174EA6;\n",
              "    }\n",
              "\n",
              "    .colab-df-buttons div {\n",
              "      margin-bottom: 4px;\n",
              "    }\n",
              "\n",
              "    [theme=dark] .colab-df-convert {\n",
              "      background-color: #3B4455;\n",
              "      fill: #D2E3FC;\n",
              "    }\n",
              "\n",
              "    [theme=dark] .colab-df-convert:hover {\n",
              "      background-color: #434B5C;\n",
              "      box-shadow: 0px 1px 3px 1px rgba(0, 0, 0, 0.15);\n",
              "      filter: drop-shadow(0px 1px 2px rgba(0, 0, 0, 0.3));\n",
              "      fill: #FFFFFF;\n",
              "    }\n",
              "  </style>\n",
              "\n",
              "    <script>\n",
              "      const buttonEl =\n",
              "        document.querySelector('#df-95ae8bf5-3729-4061-9035-5092f81eb478 button.colab-df-convert');\n",
              "      buttonEl.style.display =\n",
              "        google.colab.kernel.accessAllowed ? 'block' : 'none';\n",
              "\n",
              "      async function convertToInteractive(key) {\n",
              "        const element = document.querySelector('#df-95ae8bf5-3729-4061-9035-5092f81eb478');\n",
              "        const dataTable =\n",
              "          await google.colab.kernel.invokeFunction('convertToInteractive',\n",
              "                                                    [key], {});\n",
              "        if (!dataTable) return;\n",
              "\n",
              "        const docLinkHtml = 'Like what you see? Visit the ' +\n",
              "          '<a target=\"_blank\" href=https://colab.research.google.com/notebooks/data_table.ipynb>data table notebook</a>'\n",
              "          + ' to learn more about interactive tables.';\n",
              "        element.innerHTML = '';\n",
              "        dataTable['output_type'] = 'display_data';\n",
              "        await google.colab.output.renderOutput(dataTable, element);\n",
              "        const docLink = document.createElement('div');\n",
              "        docLink.innerHTML = docLinkHtml;\n",
              "        element.appendChild(docLink);\n",
              "      }\n",
              "    </script>\n",
              "  </div>\n",
              "\n",
              "\n",
              "<div id=\"df-73159c50-e93f-401a-a336-22aae3503f6f\">\n",
              "  <button class=\"colab-df-quickchart\" onclick=\"quickchart('df-73159c50-e93f-401a-a336-22aae3503f6f')\"\n",
              "            title=\"Suggest charts\"\n",
              "            style=\"display:none;\">\n",
              "\n",
              "<svg xmlns=\"http://www.w3.org/2000/svg\" height=\"24px\"viewBox=\"0 0 24 24\"\n",
              "     width=\"24px\">\n",
              "    <g>\n",
              "        <path d=\"M19 3H5c-1.1 0-2 .9-2 2v14c0 1.1.9 2 2 2h14c1.1 0 2-.9 2-2V5c0-1.1-.9-2-2-2zM9 17H7v-7h2v7zm4 0h-2V7h2v10zm4 0h-2v-4h2v4z\"/>\n",
              "    </g>\n",
              "</svg>\n",
              "  </button>\n",
              "\n",
              "<style>\n",
              "  .colab-df-quickchart {\n",
              "      --bg-color: #E8F0FE;\n",
              "      --fill-color: #1967D2;\n",
              "      --hover-bg-color: #E2EBFA;\n",
              "      --hover-fill-color: #174EA6;\n",
              "      --disabled-fill-color: #AAA;\n",
              "      --disabled-bg-color: #DDD;\n",
              "  }\n",
              "\n",
              "  [theme=dark] .colab-df-quickchart {\n",
              "      --bg-color: #3B4455;\n",
              "      --fill-color: #D2E3FC;\n",
              "      --hover-bg-color: #434B5C;\n",
              "      --hover-fill-color: #FFFFFF;\n",
              "      --disabled-bg-color: #3B4455;\n",
              "      --disabled-fill-color: #666;\n",
              "  }\n",
              "\n",
              "  .colab-df-quickchart {\n",
              "    background-color: var(--bg-color);\n",
              "    border: none;\n",
              "    border-radius: 50%;\n",
              "    cursor: pointer;\n",
              "    display: none;\n",
              "    fill: var(--fill-color);\n",
              "    height: 32px;\n",
              "    padding: 0;\n",
              "    width: 32px;\n",
              "  }\n",
              "\n",
              "  .colab-df-quickchart:hover {\n",
              "    background-color: var(--hover-bg-color);\n",
              "    box-shadow: 0 1px 2px rgba(60, 64, 67, 0.3), 0 1px 3px 1px rgba(60, 64, 67, 0.15);\n",
              "    fill: var(--button-hover-fill-color);\n",
              "  }\n",
              "\n",
              "  .colab-df-quickchart-complete:disabled,\n",
              "  .colab-df-quickchart-complete:disabled:hover {\n",
              "    background-color: var(--disabled-bg-color);\n",
              "    fill: var(--disabled-fill-color);\n",
              "    box-shadow: none;\n",
              "  }\n",
              "\n",
              "  .colab-df-spinner {\n",
              "    border: 2px solid var(--fill-color);\n",
              "    border-color: transparent;\n",
              "    border-bottom-color: var(--fill-color);\n",
              "    animation:\n",
              "      spin 1s steps(1) infinite;\n",
              "  }\n",
              "\n",
              "  @keyframes spin {\n",
              "    0% {\n",
              "      border-color: transparent;\n",
              "      border-bottom-color: var(--fill-color);\n",
              "      border-left-color: var(--fill-color);\n",
              "    }\n",
              "    20% {\n",
              "      border-color: transparent;\n",
              "      border-left-color: var(--fill-color);\n",
              "      border-top-color: var(--fill-color);\n",
              "    }\n",
              "    30% {\n",
              "      border-color: transparent;\n",
              "      border-left-color: var(--fill-color);\n",
              "      border-top-color: var(--fill-color);\n",
              "      border-right-color: var(--fill-color);\n",
              "    }\n",
              "    40% {\n",
              "      border-color: transparent;\n",
              "      border-right-color: var(--fill-color);\n",
              "      border-top-color: var(--fill-color);\n",
              "    }\n",
              "    60% {\n",
              "      border-color: transparent;\n",
              "      border-right-color: var(--fill-color);\n",
              "    }\n",
              "    80% {\n",
              "      border-color: transparent;\n",
              "      border-right-color: var(--fill-color);\n",
              "      border-bottom-color: var(--fill-color);\n",
              "    }\n",
              "    90% {\n",
              "      border-color: transparent;\n",
              "      border-bottom-color: var(--fill-color);\n",
              "    }\n",
              "  }\n",
              "</style>\n",
              "\n",
              "  <script>\n",
              "    async function quickchart(key) {\n",
              "      const quickchartButtonEl =\n",
              "        document.querySelector('#' + key + ' button');\n",
              "      quickchartButtonEl.disabled = true;  // To prevent multiple clicks.\n",
              "      quickchartButtonEl.classList.add('colab-df-spinner');\n",
              "      try {\n",
              "        const charts = await google.colab.kernel.invokeFunction(\n",
              "            'suggestCharts', [key], {});\n",
              "      } catch (error) {\n",
              "        console.error('Error during call to suggestCharts:', error);\n",
              "      }\n",
              "      quickchartButtonEl.classList.remove('colab-df-spinner');\n",
              "      quickchartButtonEl.classList.add('colab-df-quickchart-complete');\n",
              "    }\n",
              "    (() => {\n",
              "      let quickchartButtonEl =\n",
              "        document.querySelector('#df-73159c50-e93f-401a-a336-22aae3503f6f button');\n",
              "      quickchartButtonEl.style.display =\n",
              "        google.colab.kernel.accessAllowed ? 'block' : 'none';\n",
              "    })();\n",
              "  </script>\n",
              "</div>\n",
              "    </div>\n",
              "  </div>\n"
            ],
            "application/vnd.google.colaboratory.intrinsic+json": {
              "type": "dataframe",
              "variable_name": "data",
              "summary": "{\n  \"name\": \"data\",\n  \"rows\": 14344,\n  \"fields\": [\n    {\n      \"column\": \"Source\",\n      \"properties\": {\n        \"dtype\": \"category\",\n        \"num_unique_values\": 18,\n        \"samples\": [\n          \"Daily Mail Zambia\",\n          \"Flava FM\",\n          \"Daily Revelation Zambia\"\n        ],\n        \"semantic_type\": \"\",\n        \"description\": \"\"\n      }\n    },\n    {\n      \"column\": \"Category\",\n      \"properties\": {\n        \"dtype\": \"category\",\n        \"num_unique_values\": 2265,\n        \"samples\": [\n          \"Latest News, Lifestyle & Fashion, About Bishop Joe Imakando, Breaking News, Zambian news\",\n          \"Special Comments, deputy minister, Former President Edgar Lungu, Movement for multiparty democracy, Opposition Leaders, Patriotic Front\",\n          \"Economic Development Strategy, new zambian coinage, rebased kwacha, zamban kwacha, zambian currency, zambian money\"\n        ],\n        \"semantic_type\": \"\",\n        \"description\": \"\"\n      }\n    },\n    {\n      \"column\": \"Headline\",\n      \"properties\": {\n        \"dtype\": \"string\",\n        \"num_unique_values\": 12051,\n        \"samples\": [\n          \"Nevers Mumba released\",\n          \"GBFC visit fortress Nakambala Stadium\",\n          \"\\u2014  Randy pastor charged with indecent assault\"\n        ],\n        \"semantic_type\": \"\",\n        \"description\": \"\"\n      }\n    },\n    {\n      \"column\": \"Link\",\n      \"properties\": {\n        \"dtype\": \"string\",\n        \"num_unique_values\": 12346,\n        \"samples\": [\n          \"https://www.lusakatimes.com/2013/09/22/62477/\",\n          \"https://www.lusakatimes.com/2008/06/17/zambia-head-to-kitwe/\",\n          \"https://dailynationzambia.com/2021/03/account-for-donated-fundsmayor-told/?utm_source=rss&utm_medium=rss&utm_campaign=account-for-donated-fundsmayor-told\"\n        ],\n        \"semantic_type\": \"\",\n        \"description\": \"\"\n      }\n    },\n    {\n      \"column\": \"Description\",\n      \"properties\": {\n        \"dtype\": \"string\",\n        \"num_unique_values\": 12242,\n        \"samples\": [\n          \"Elections are the central institution of democratic representative governments. In a democracy, the authority of the government derives solely from the consent of the governed. The principal mechanism for translating that consent into governmental authority is the holding of free, peaceful and fair elections at their intended time. Jeane Kirkpatrick, a scholar and former United [&#8230;]\",\n          \"<p>3,906 ViewsA Chinese-owned hospital in Kitwe has been closed for unlawfully giving out Anti-Retroviral drugs while four other health facilities have been closed for various offences that include stocking and dispensing expired medicines and mixing food items and drugs in a fridge. The five health facilities closed are Section 5 Mine in Luanshya, Baluba Shaft [&#8230;]</p>\\n<p>The post <a href=\\\"https://zambianeye.com/hospital-closed-for-dispensing-unauthorised-arvs/\\\">Hospital closed for dispensing unauthorised ARVs</a> first appeared on <a href=\\\"https://zambianeye.com\\\">Zambian Eye</a>.</p>\",\n          \"Ex-Power Dynamos assistant coach Mwenya Chipepo believes his old club shouldn\\u2019t have let go of striker Alex Ng\\u2019onga who has since joined their Kitwe rivals Nkana. Ng\\u2019onga last week resigned from Power whom he first joined in 2009 to 2015 and later rejoined them in 2017 after a brief spell at Gabonese club CF Mounana. [&#8230;]\"\n        ],\n        \"semantic_type\": \"\",\n        \"description\": \"\"\n      }\n    },\n    {\n      \"column\": \"Date\",\n      \"properties\": {\n        \"dtype\": \"object\",\n        \"num_unique_values\": 12158,\n        \"samples\": [\n          \"Sun, 07 Mar 2021 10:34:46 +0000\",\n          \"Sun, 14 Sep 2014 15:19:06 +0000\",\n          \"Sun, 07 Mar 2021 11:04:36 +0000\"\n        ],\n        \"semantic_type\": \"\",\n        \"description\": \"\"\n      }\n    },\n    {\n      \"column\": \"Author\",\n      \"properties\": {\n        \"dtype\": \"category\",\n        \"num_unique_values\": 135,\n        \"samples\": [\n          \"Emmanuel C Mutale\",\n          \"Michael Miyoba\",\n          \"Victor Kalalanda\"\n        ],\n        \"semantic_type\": \"\",\n        \"description\": \"\"\n      }\n    }\n  ]\n}"
            }
          },
          "metadata": {},
          "execution_count": 15
        }
      ]
    },
    {
      "cell_type": "code",
      "source": [
        "data.info()"
      ],
      "metadata": {
        "colab": {
          "base_uri": "https://localhost:8080/"
        },
        "id": "kH5vt7JA4uuy",
        "outputId": "1815cf66-26a9-4d51-9a3e-69207dd8a967"
      },
      "execution_count": 16,
      "outputs": [
        {
          "output_type": "stream",
          "name": "stdout",
          "text": [
            "<class 'pandas.core.frame.DataFrame'>\n",
            "RangeIndex: 14344 entries, 0 to 14343\n",
            "Data columns (total 7 columns):\n",
            " #   Column       Non-Null Count  Dtype \n",
            "---  ------       --------------  ----- \n",
            " 0   Source       14344 non-null  object\n",
            " 1   Category     13870 non-null  object\n",
            " 2   Headline     14343 non-null  object\n",
            " 3   Link         14344 non-null  object\n",
            " 4   Description  14330 non-null  object\n",
            " 5   Date         14344 non-null  object\n",
            " 6   Author       14343 non-null  object\n",
            "dtypes: object(7)\n",
            "memory usage: 784.6+ KB\n"
          ]
        }
      ]
    },
    {
      "cell_type": "markdown",
      "source": [
        "### 1. Check Data Quality"
      ],
      "metadata": {
        "id": "KDJ_SudPZb89"
      }
    },
    {
      "cell_type": "markdown",
      "source": [
        "#### 1.1 Checking for duplicates"
      ],
      "metadata": {
        "id": "SZe345hY6nQ1"
      }
    },
    {
      "cell_type": "code",
      "source": [
        "# Drop the duplicated rows\n",
        "data.drop_duplicates(inplace=True)"
      ],
      "metadata": {
        "id": "xwziZJre5U3r"
      },
      "execution_count": 17,
      "outputs": []
    },
    {
      "cell_type": "code",
      "source": [
        "data.shape"
      ],
      "metadata": {
        "colab": {
          "base_uri": "https://localhost:8080/"
        },
        "id": "6pPK_CeN5qSa",
        "outputId": "a3add2cf-037a-457b-cbd1-60472fcf94a2"
      },
      "execution_count": 18,
      "outputs": [
        {
          "output_type": "execute_result",
          "data": {
            "text/plain": [
              "(12346, 7)"
            ]
          },
          "metadata": {},
          "execution_count": 18
        }
      ]
    },
    {
      "cell_type": "markdown",
      "source": [
        "#### 1.2 Check Data Quality"
      ],
      "metadata": {
        "id": "b099Ce8y_tp6"
      }
    },
    {
      "cell_type": "code",
      "source": [
        "# Check for missing values\n",
        "missing_values = data.isnull().sum()"
      ],
      "metadata": {
        "id": "_cVXc4XP18Mg"
      },
      "execution_count": 19,
      "outputs": []
    },
    {
      "cell_type": "code",
      "source": [
        "# what rows has null values?\n",
        "missing_values"
      ],
      "metadata": {
        "colab": {
          "base_uri": "https://localhost:8080/",
          "height": 303
        },
        "id": "gEjGLLzm3uDV",
        "outputId": "bd6ec3a6-f91f-4c3c-c0a5-415c1d31352a"
      },
      "execution_count": 20,
      "outputs": [
        {
          "output_type": "execute_result",
          "data": {
            "text/plain": [
              "Source           0\n",
              "Category       474\n",
              "Headline         1\n",
              "Link             0\n",
              "Description     14\n",
              "Date             0\n",
              "Author           1\n",
              "dtype: int64"
            ],
            "text/html": [
              "<div>\n",
              "<style scoped>\n",
              "    .dataframe tbody tr th:only-of-type {\n",
              "        vertical-align: middle;\n",
              "    }\n",
              "\n",
              "    .dataframe tbody tr th {\n",
              "        vertical-align: top;\n",
              "    }\n",
              "\n",
              "    .dataframe thead th {\n",
              "        text-align: right;\n",
              "    }\n",
              "</style>\n",
              "<table border=\"1\" class=\"dataframe\">\n",
              "  <thead>\n",
              "    <tr style=\"text-align: right;\">\n",
              "      <th></th>\n",
              "      <th>0</th>\n",
              "    </tr>\n",
              "  </thead>\n",
              "  <tbody>\n",
              "    <tr>\n",
              "      <th>Source</th>\n",
              "      <td>0</td>\n",
              "    </tr>\n",
              "    <tr>\n",
              "      <th>Category</th>\n",
              "      <td>474</td>\n",
              "    </tr>\n",
              "    <tr>\n",
              "      <th>Headline</th>\n",
              "      <td>1</td>\n",
              "    </tr>\n",
              "    <tr>\n",
              "      <th>Link</th>\n",
              "      <td>0</td>\n",
              "    </tr>\n",
              "    <tr>\n",
              "      <th>Description</th>\n",
              "      <td>14</td>\n",
              "    </tr>\n",
              "    <tr>\n",
              "      <th>Date</th>\n",
              "      <td>0</td>\n",
              "    </tr>\n",
              "    <tr>\n",
              "      <th>Author</th>\n",
              "      <td>1</td>\n",
              "    </tr>\n",
              "  </tbody>\n",
              "</table>\n",
              "</div><br><label><b>dtype:</b> int64</label>"
            ]
          },
          "metadata": {},
          "execution_count": 20
        }
      ]
    },
    {
      "cell_type": "markdown",
      "source": [
        "Among the null values, let's check the null `Headline` and `Description`"
      ],
      "metadata": {
        "id": "VeFwmsqEKNRV"
      }
    },
    {
      "cell_type": "code",
      "source": [
        "# Checking rows that have null description, I wanna check some of the links whether any data is inside them or not\n",
        "missing_rows = data[data['Description'].isna()]"
      ],
      "metadata": {
        "id": "8Xqn8Nh17_1o"
      },
      "execution_count": 21,
      "outputs": []
    },
    {
      "cell_type": "code",
      "source": [
        "missing_rows"
      ],
      "metadata": {
        "colab": {
          "base_uri": "https://localhost:8080/",
          "height": 731
        },
        "id": "UZNMHaGP-MtP",
        "outputId": "8561dc7d-ffe8-46be-f5d2-f1d4ff765d39"
      },
      "execution_count": 22,
      "outputs": [
        {
          "output_type": "execute_result",
          "data": {
            "text/plain": [
              "             Source                                           Category  \\\n",
              "4100   Lusaka Times                                      Photo Gallery   \n",
              "4371   Lusaka Times                                  Videos and Audios   \n",
              "4849   Lusaka Times                                      Photo Gallery   \n",
              "4967   Lusaka Times                                      Photo Gallery   \n",
              "5043   Lusaka Times                                      Photo Gallery   \n",
              "5243   Lusaka Times                                      Photo Gallery   \n",
              "5945   Lusaka Times                                      Photo Gallery   \n",
              "8549   Kitwe Online  Theatre, auditions, Kitwe, little theatre, muk...   \n",
              "8561   Kitwe Online  Art, Kitwe On Line, Self-Development, sotambe ...   \n",
              "8562   Kitwe Online         History, Kitwe On Line, Kitwe, town, video   \n",
              "8563   Kitwe Online                            Kitwe On Line, liebherr   \n",
              "8676   Kitwe Online       books, Kitwe, kitweonline book store, zambia   \n",
              "8728   Kitwe Online                                     Classified Ads   \n",
              "11044  Lusaka Voice                                       GENERAL NEWS   \n",
              "\n",
              "                                                Headline  \\\n",
              "4100            2018 COSAFA U20 Championship in Pictures   \n",
              "4371                  President Lungu’s Arrival in Kitwe   \n",
              "4849                                The Week in Pictures   \n",
              "4967   President and Vice President Visits to Army Wo...   \n",
              "5043                               This Week in Pictures   \n",
              "5243           President Lungu’s Kitwe Visit in Pictures   \n",
              "5945                        UPND Kitwe Rally in Pictures   \n",
              "8549          Kitwe Little Theatre Auditions – June 2022   \n",
              "8561                        SOTAMBE FILM MAKING BOOTCAMP   \n",
              "8562                                    Kitwe Town Video   \n",
              "8563                          Wheeled Excavator For Sale   \n",
              "8676                                               Books   \n",
              "8728                                  Seasonal Greetings   \n",
              "11044                         PF nominations in pictures   \n",
              "\n",
              "                                                    Link Description  \\\n",
              "4100   https://www.lusakatimes.com/2018/12/15/2018-co...         NaN   \n",
              "4371   https://www.lusakatimes.com/2018/06/07/preside...         NaN   \n",
              "4849   https://www.lusakatimes.com/2017/05/05/the-wee...         NaN   \n",
              "4967   https://www.lusakatimes.com/2017/01/06/preside...         NaN   \n",
              "5043   https://www.lusakatimes.com/2016/10/14/this-we...         NaN   \n",
              "5243   https://www.lusakatimes.com/2016/05/06/preside...         NaN   \n",
              "5945   https://www.lusakatimes.com/2014/12/20/upnd-ki...         NaN   \n",
              "8549   https://kitweonline.com/kitweonline/discover-k...         NaN   \n",
              "8561   https://kitweonline.com/kitweonline/sotambe-fi...         NaN   \n",
              "8562   https://kitweonline.com/kitweonline/kitwe-town...         NaN   \n",
              "8563   https://kitweonline.com/kitweonline/wheeled-ex...         NaN   \n",
              "8676   https://kitweonline.com/kitweonline-book-store...         NaN   \n",
              "8728   https://kitweonline.com/kitweonline/business/c...         NaN   \n",
              "11044  https://lusakavoice.com/2016/06/01/pf-nominati...         NaN   \n",
              "\n",
              "                                  Date         Author  \n",
              "4100   Sat, 15 Dec 2018 05:07:43 +0000   Chief Editor  \n",
              "4371   Thu, 07 Jun 2018 04:45:30 +0000   Chief Editor  \n",
              "4849   Fri, 05 May 2017 11:04:35 +0000         editor  \n",
              "4967   Fri, 06 Jan 2017 14:41:41 +0000         editor  \n",
              "5043   Fri, 14 Oct 2016 13:24:10 +0000         editor  \n",
              "5243   Fri, 06 May 2016 10:58:38 +0000         editor  \n",
              "5945   Sat, 20 Dec 2014 20:10:29 +0000         editor  \n",
              "8549   Thu, 16 Jun 2022 07:26:13 +0000             JS  \n",
              "8561   Thu, 18 Feb 2021 13:05:02 +0000             JS  \n",
              "8562   Tue, 02 Feb 2021 12:53:37 +0000             JS  \n",
              "8563   Tue, 29 Sep 2020 10:33:33 +0000             JS  \n",
              "8676   Sun, 21 Jul 2013 11:03:04 +0000             JS  \n",
              "8728   Sat, 22 Dec 2012 23:24:01 +0000             JS  \n",
              "11044  Wed, 01 Jun 2016 11:04:40 +0000  Online Editor  "
            ],
            "text/html": [
              "\n",
              "  <div id=\"df-622d73f0-67ca-4371-8271-7ff4d218ff9c\" class=\"colab-df-container\">\n",
              "    <div>\n",
              "<style scoped>\n",
              "    .dataframe tbody tr th:only-of-type {\n",
              "        vertical-align: middle;\n",
              "    }\n",
              "\n",
              "    .dataframe tbody tr th {\n",
              "        vertical-align: top;\n",
              "    }\n",
              "\n",
              "    .dataframe thead th {\n",
              "        text-align: right;\n",
              "    }\n",
              "</style>\n",
              "<table border=\"1\" class=\"dataframe\">\n",
              "  <thead>\n",
              "    <tr style=\"text-align: right;\">\n",
              "      <th></th>\n",
              "      <th>Source</th>\n",
              "      <th>Category</th>\n",
              "      <th>Headline</th>\n",
              "      <th>Link</th>\n",
              "      <th>Description</th>\n",
              "      <th>Date</th>\n",
              "      <th>Author</th>\n",
              "    </tr>\n",
              "  </thead>\n",
              "  <tbody>\n",
              "    <tr>\n",
              "      <th>4100</th>\n",
              "      <td>Lusaka Times</td>\n",
              "      <td>Photo Gallery</td>\n",
              "      <td>2018 COSAFA U20 Championship in Pictures</td>\n",
              "      <td>https://www.lusakatimes.com/2018/12/15/2018-co...</td>\n",
              "      <td>NaN</td>\n",
              "      <td>Sat, 15 Dec 2018 05:07:43 +0000</td>\n",
              "      <td>Chief Editor</td>\n",
              "    </tr>\n",
              "    <tr>\n",
              "      <th>4371</th>\n",
              "      <td>Lusaka Times</td>\n",
              "      <td>Videos and Audios</td>\n",
              "      <td>President Lungu’s Arrival in Kitwe</td>\n",
              "      <td>https://www.lusakatimes.com/2018/06/07/preside...</td>\n",
              "      <td>NaN</td>\n",
              "      <td>Thu, 07 Jun 2018 04:45:30 +0000</td>\n",
              "      <td>Chief Editor</td>\n",
              "    </tr>\n",
              "    <tr>\n",
              "      <th>4849</th>\n",
              "      <td>Lusaka Times</td>\n",
              "      <td>Photo Gallery</td>\n",
              "      <td>The Week in Pictures</td>\n",
              "      <td>https://www.lusakatimes.com/2017/05/05/the-wee...</td>\n",
              "      <td>NaN</td>\n",
              "      <td>Fri, 05 May 2017 11:04:35 +0000</td>\n",
              "      <td>editor</td>\n",
              "    </tr>\n",
              "    <tr>\n",
              "      <th>4967</th>\n",
              "      <td>Lusaka Times</td>\n",
              "      <td>Photo Gallery</td>\n",
              "      <td>President and Vice President Visits to Army Wo...</td>\n",
              "      <td>https://www.lusakatimes.com/2017/01/06/preside...</td>\n",
              "      <td>NaN</td>\n",
              "      <td>Fri, 06 Jan 2017 14:41:41 +0000</td>\n",
              "      <td>editor</td>\n",
              "    </tr>\n",
              "    <tr>\n",
              "      <th>5043</th>\n",
              "      <td>Lusaka Times</td>\n",
              "      <td>Photo Gallery</td>\n",
              "      <td>This Week in Pictures</td>\n",
              "      <td>https://www.lusakatimes.com/2016/10/14/this-we...</td>\n",
              "      <td>NaN</td>\n",
              "      <td>Fri, 14 Oct 2016 13:24:10 +0000</td>\n",
              "      <td>editor</td>\n",
              "    </tr>\n",
              "    <tr>\n",
              "      <th>5243</th>\n",
              "      <td>Lusaka Times</td>\n",
              "      <td>Photo Gallery</td>\n",
              "      <td>President Lungu’s Kitwe Visit in Pictures</td>\n",
              "      <td>https://www.lusakatimes.com/2016/05/06/preside...</td>\n",
              "      <td>NaN</td>\n",
              "      <td>Fri, 06 May 2016 10:58:38 +0000</td>\n",
              "      <td>editor</td>\n",
              "    </tr>\n",
              "    <tr>\n",
              "      <th>5945</th>\n",
              "      <td>Lusaka Times</td>\n",
              "      <td>Photo Gallery</td>\n",
              "      <td>UPND Kitwe Rally in Pictures</td>\n",
              "      <td>https://www.lusakatimes.com/2014/12/20/upnd-ki...</td>\n",
              "      <td>NaN</td>\n",
              "      <td>Sat, 20 Dec 2014 20:10:29 +0000</td>\n",
              "      <td>editor</td>\n",
              "    </tr>\n",
              "    <tr>\n",
              "      <th>8549</th>\n",
              "      <td>Kitwe Online</td>\n",
              "      <td>Theatre, auditions, Kitwe, little theatre, muk...</td>\n",
              "      <td>Kitwe Little Theatre Auditions – June 2022</td>\n",
              "      <td>https://kitweonline.com/kitweonline/discover-k...</td>\n",
              "      <td>NaN</td>\n",
              "      <td>Thu, 16 Jun 2022 07:26:13 +0000</td>\n",
              "      <td>JS</td>\n",
              "    </tr>\n",
              "    <tr>\n",
              "      <th>8561</th>\n",
              "      <td>Kitwe Online</td>\n",
              "      <td>Art, Kitwe On Line, Self-Development, sotambe ...</td>\n",
              "      <td>SOTAMBE FILM MAKING BOOTCAMP</td>\n",
              "      <td>https://kitweonline.com/kitweonline/sotambe-fi...</td>\n",
              "      <td>NaN</td>\n",
              "      <td>Thu, 18 Feb 2021 13:05:02 +0000</td>\n",
              "      <td>JS</td>\n",
              "    </tr>\n",
              "    <tr>\n",
              "      <th>8562</th>\n",
              "      <td>Kitwe Online</td>\n",
              "      <td>History, Kitwe On Line, Kitwe, town, video</td>\n",
              "      <td>Kitwe Town Video</td>\n",
              "      <td>https://kitweonline.com/kitweonline/kitwe-town...</td>\n",
              "      <td>NaN</td>\n",
              "      <td>Tue, 02 Feb 2021 12:53:37 +0000</td>\n",
              "      <td>JS</td>\n",
              "    </tr>\n",
              "    <tr>\n",
              "      <th>8563</th>\n",
              "      <td>Kitwe Online</td>\n",
              "      <td>Kitwe On Line, liebherr</td>\n",
              "      <td>Wheeled Excavator For Sale</td>\n",
              "      <td>https://kitweonline.com/kitweonline/wheeled-ex...</td>\n",
              "      <td>NaN</td>\n",
              "      <td>Tue, 29 Sep 2020 10:33:33 +0000</td>\n",
              "      <td>JS</td>\n",
              "    </tr>\n",
              "    <tr>\n",
              "      <th>8676</th>\n",
              "      <td>Kitwe Online</td>\n",
              "      <td>books, Kitwe, kitweonline book store, zambia</td>\n",
              "      <td>Books</td>\n",
              "      <td>https://kitweonline.com/kitweonline-book-store...</td>\n",
              "      <td>NaN</td>\n",
              "      <td>Sun, 21 Jul 2013 11:03:04 +0000</td>\n",
              "      <td>JS</td>\n",
              "    </tr>\n",
              "    <tr>\n",
              "      <th>8728</th>\n",
              "      <td>Kitwe Online</td>\n",
              "      <td>Classified Ads</td>\n",
              "      <td>Seasonal Greetings</td>\n",
              "      <td>https://kitweonline.com/kitweonline/business/c...</td>\n",
              "      <td>NaN</td>\n",
              "      <td>Sat, 22 Dec 2012 23:24:01 +0000</td>\n",
              "      <td>JS</td>\n",
              "    </tr>\n",
              "    <tr>\n",
              "      <th>11044</th>\n",
              "      <td>Lusaka Voice</td>\n",
              "      <td>GENERAL NEWS</td>\n",
              "      <td>PF nominations in pictures</td>\n",
              "      <td>https://lusakavoice.com/2016/06/01/pf-nominati...</td>\n",
              "      <td>NaN</td>\n",
              "      <td>Wed, 01 Jun 2016 11:04:40 +0000</td>\n",
              "      <td>Online Editor</td>\n",
              "    </tr>\n",
              "  </tbody>\n",
              "</table>\n",
              "</div>\n",
              "    <div class=\"colab-df-buttons\">\n",
              "\n",
              "  <div class=\"colab-df-container\">\n",
              "    <button class=\"colab-df-convert\" onclick=\"convertToInteractive('df-622d73f0-67ca-4371-8271-7ff4d218ff9c')\"\n",
              "            title=\"Convert this dataframe to an interactive table.\"\n",
              "            style=\"display:none;\">\n",
              "\n",
              "  <svg xmlns=\"http://www.w3.org/2000/svg\" height=\"24px\" viewBox=\"0 -960 960 960\">\n",
              "    <path d=\"M120-120v-720h720v720H120Zm60-500h600v-160H180v160Zm220 220h160v-160H400v160Zm0 220h160v-160H400v160ZM180-400h160v-160H180v160Zm440 0h160v-160H620v160ZM180-180h160v-160H180v160Zm440 0h160v-160H620v160Z\"/>\n",
              "  </svg>\n",
              "    </button>\n",
              "\n",
              "  <style>\n",
              "    .colab-df-container {\n",
              "      display:flex;\n",
              "      gap: 12px;\n",
              "    }\n",
              "\n",
              "    .colab-df-convert {\n",
              "      background-color: #E8F0FE;\n",
              "      border: none;\n",
              "      border-radius: 50%;\n",
              "      cursor: pointer;\n",
              "      display: none;\n",
              "      fill: #1967D2;\n",
              "      height: 32px;\n",
              "      padding: 0 0 0 0;\n",
              "      width: 32px;\n",
              "    }\n",
              "\n",
              "    .colab-df-convert:hover {\n",
              "      background-color: #E2EBFA;\n",
              "      box-shadow: 0px 1px 2px rgba(60, 64, 67, 0.3), 0px 1px 3px 1px rgba(60, 64, 67, 0.15);\n",
              "      fill: #174EA6;\n",
              "    }\n",
              "\n",
              "    .colab-df-buttons div {\n",
              "      margin-bottom: 4px;\n",
              "    }\n",
              "\n",
              "    [theme=dark] .colab-df-convert {\n",
              "      background-color: #3B4455;\n",
              "      fill: #D2E3FC;\n",
              "    }\n",
              "\n",
              "    [theme=dark] .colab-df-convert:hover {\n",
              "      background-color: #434B5C;\n",
              "      box-shadow: 0px 1px 3px 1px rgba(0, 0, 0, 0.15);\n",
              "      filter: drop-shadow(0px 1px 2px rgba(0, 0, 0, 0.3));\n",
              "      fill: #FFFFFF;\n",
              "    }\n",
              "  </style>\n",
              "\n",
              "    <script>\n",
              "      const buttonEl =\n",
              "        document.querySelector('#df-622d73f0-67ca-4371-8271-7ff4d218ff9c button.colab-df-convert');\n",
              "      buttonEl.style.display =\n",
              "        google.colab.kernel.accessAllowed ? 'block' : 'none';\n",
              "\n",
              "      async function convertToInteractive(key) {\n",
              "        const element = document.querySelector('#df-622d73f0-67ca-4371-8271-7ff4d218ff9c');\n",
              "        const dataTable =\n",
              "          await google.colab.kernel.invokeFunction('convertToInteractive',\n",
              "                                                    [key], {});\n",
              "        if (!dataTable) return;\n",
              "\n",
              "        const docLinkHtml = 'Like what you see? Visit the ' +\n",
              "          '<a target=\"_blank\" href=https://colab.research.google.com/notebooks/data_table.ipynb>data table notebook</a>'\n",
              "          + ' to learn more about interactive tables.';\n",
              "        element.innerHTML = '';\n",
              "        dataTable['output_type'] = 'display_data';\n",
              "        await google.colab.output.renderOutput(dataTable, element);\n",
              "        const docLink = document.createElement('div');\n",
              "        docLink.innerHTML = docLinkHtml;\n",
              "        element.appendChild(docLink);\n",
              "      }\n",
              "    </script>\n",
              "  </div>\n",
              "\n",
              "\n",
              "<div id=\"df-52630ee4-7c00-4aaa-bd32-7f787188f05b\">\n",
              "  <button class=\"colab-df-quickchart\" onclick=\"quickchart('df-52630ee4-7c00-4aaa-bd32-7f787188f05b')\"\n",
              "            title=\"Suggest charts\"\n",
              "            style=\"display:none;\">\n",
              "\n",
              "<svg xmlns=\"http://www.w3.org/2000/svg\" height=\"24px\"viewBox=\"0 0 24 24\"\n",
              "     width=\"24px\">\n",
              "    <g>\n",
              "        <path d=\"M19 3H5c-1.1 0-2 .9-2 2v14c0 1.1.9 2 2 2h14c1.1 0 2-.9 2-2V5c0-1.1-.9-2-2-2zM9 17H7v-7h2v7zm4 0h-2V7h2v10zm4 0h-2v-4h2v4z\"/>\n",
              "    </g>\n",
              "</svg>\n",
              "  </button>\n",
              "\n",
              "<style>\n",
              "  .colab-df-quickchart {\n",
              "      --bg-color: #E8F0FE;\n",
              "      --fill-color: #1967D2;\n",
              "      --hover-bg-color: #E2EBFA;\n",
              "      --hover-fill-color: #174EA6;\n",
              "      --disabled-fill-color: #AAA;\n",
              "      --disabled-bg-color: #DDD;\n",
              "  }\n",
              "\n",
              "  [theme=dark] .colab-df-quickchart {\n",
              "      --bg-color: #3B4455;\n",
              "      --fill-color: #D2E3FC;\n",
              "      --hover-bg-color: #434B5C;\n",
              "      --hover-fill-color: #FFFFFF;\n",
              "      --disabled-bg-color: #3B4455;\n",
              "      --disabled-fill-color: #666;\n",
              "  }\n",
              "\n",
              "  .colab-df-quickchart {\n",
              "    background-color: var(--bg-color);\n",
              "    border: none;\n",
              "    border-radius: 50%;\n",
              "    cursor: pointer;\n",
              "    display: none;\n",
              "    fill: var(--fill-color);\n",
              "    height: 32px;\n",
              "    padding: 0;\n",
              "    width: 32px;\n",
              "  }\n",
              "\n",
              "  .colab-df-quickchart:hover {\n",
              "    background-color: var(--hover-bg-color);\n",
              "    box-shadow: 0 1px 2px rgba(60, 64, 67, 0.3), 0 1px 3px 1px rgba(60, 64, 67, 0.15);\n",
              "    fill: var(--button-hover-fill-color);\n",
              "  }\n",
              "\n",
              "  .colab-df-quickchart-complete:disabled,\n",
              "  .colab-df-quickchart-complete:disabled:hover {\n",
              "    background-color: var(--disabled-bg-color);\n",
              "    fill: var(--disabled-fill-color);\n",
              "    box-shadow: none;\n",
              "  }\n",
              "\n",
              "  .colab-df-spinner {\n",
              "    border: 2px solid var(--fill-color);\n",
              "    border-color: transparent;\n",
              "    border-bottom-color: var(--fill-color);\n",
              "    animation:\n",
              "      spin 1s steps(1) infinite;\n",
              "  }\n",
              "\n",
              "  @keyframes spin {\n",
              "    0% {\n",
              "      border-color: transparent;\n",
              "      border-bottom-color: var(--fill-color);\n",
              "      border-left-color: var(--fill-color);\n",
              "    }\n",
              "    20% {\n",
              "      border-color: transparent;\n",
              "      border-left-color: var(--fill-color);\n",
              "      border-top-color: var(--fill-color);\n",
              "    }\n",
              "    30% {\n",
              "      border-color: transparent;\n",
              "      border-left-color: var(--fill-color);\n",
              "      border-top-color: var(--fill-color);\n",
              "      border-right-color: var(--fill-color);\n",
              "    }\n",
              "    40% {\n",
              "      border-color: transparent;\n",
              "      border-right-color: var(--fill-color);\n",
              "      border-top-color: var(--fill-color);\n",
              "    }\n",
              "    60% {\n",
              "      border-color: transparent;\n",
              "      border-right-color: var(--fill-color);\n",
              "    }\n",
              "    80% {\n",
              "      border-color: transparent;\n",
              "      border-right-color: var(--fill-color);\n",
              "      border-bottom-color: var(--fill-color);\n",
              "    }\n",
              "    90% {\n",
              "      border-color: transparent;\n",
              "      border-bottom-color: var(--fill-color);\n",
              "    }\n",
              "  }\n",
              "</style>\n",
              "\n",
              "  <script>\n",
              "    async function quickchart(key) {\n",
              "      const quickchartButtonEl =\n",
              "        document.querySelector('#' + key + ' button');\n",
              "      quickchartButtonEl.disabled = true;  // To prevent multiple clicks.\n",
              "      quickchartButtonEl.classList.add('colab-df-spinner');\n",
              "      try {\n",
              "        const charts = await google.colab.kernel.invokeFunction(\n",
              "            'suggestCharts', [key], {});\n",
              "      } catch (error) {\n",
              "        console.error('Error during call to suggestCharts:', error);\n",
              "      }\n",
              "      quickchartButtonEl.classList.remove('colab-df-spinner');\n",
              "      quickchartButtonEl.classList.add('colab-df-quickchart-complete');\n",
              "    }\n",
              "    (() => {\n",
              "      let quickchartButtonEl =\n",
              "        document.querySelector('#df-52630ee4-7c00-4aaa-bd32-7f787188f05b button');\n",
              "      quickchartButtonEl.style.display =\n",
              "        google.colab.kernel.accessAllowed ? 'block' : 'none';\n",
              "    })();\n",
              "  </script>\n",
              "</div>\n",
              "    </div>\n",
              "  </div>\n"
            ],
            "application/vnd.google.colaboratory.intrinsic+json": {
              "type": "dataframe",
              "variable_name": "missing_rows",
              "repr_error": "0"
            }
          },
          "metadata": {},
          "execution_count": 22
        }
      ]
    },
    {
      "cell_type": "code",
      "source": [
        "# take a closer look at a row with a null description\n",
        "print(data.loc[11044])"
      ],
      "metadata": {
        "colab": {
          "base_uri": "https://localhost:8080/"
        },
        "id": "LFO-vS-T8CBo",
        "outputId": "0f13beb0-818f-4452-ed32-b9abb8554e8f"
      },
      "execution_count": 23,
      "outputs": [
        {
          "output_type": "stream",
          "name": "stdout",
          "text": [
            "Source                                              Lusaka Voice\n",
            "Category                                            GENERAL NEWS\n",
            "Headline                              PF nominations in pictures\n",
            "Link           https://lusakavoice.com/2016/06/01/pf-nominati...\n",
            "Description                                                  NaN\n",
            "Date                             Wed, 01 Jun 2016 11:04:40 +0000\n",
            "Author                                             Online Editor\n",
            "Name: 11044, dtype: object\n"
          ]
        }
      ]
    },
    {
      "cell_type": "markdown",
      "source": [
        "Checked some links, some of them are empty like the one with `8728` id and [link](https://kitweonline.com/kitweonline/business/c) and some are link for photos [link](https://lusakavoice.com/2016/06/01/pf-nominations-in-pictures/), so guess best thing to do delete those rows with no description"
      ],
      "metadata": {
        "id": "m2kNVSeWLKRu"
      }
    },
    {
      "cell_type": "code",
      "source": [
        "# Drop rows with missing values in important columns\n",
        "data = data.dropna(subset=['Description'])"
      ],
      "metadata": {
        "id": "YJZa3YKj5xJe"
      },
      "execution_count": 24,
      "outputs": []
    },
    {
      "cell_type": "code",
      "source": [
        "data.shape"
      ],
      "metadata": {
        "colab": {
          "base_uri": "https://localhost:8080/"
        },
        "id": "dhWl3roN6Thj",
        "outputId": "a6eb039a-8089-40f4-feb3-dd58963fe903"
      },
      "execution_count": 25,
      "outputs": [
        {
          "output_type": "execute_result",
          "data": {
            "text/plain": [
              "(12332, 7)"
            ]
          },
          "metadata": {},
          "execution_count": 25
        }
      ]
    },
    {
      "cell_type": "code",
      "source": [
        "data[data['Headline'].isna()]"
      ],
      "metadata": {
        "colab": {
          "base_uri": "https://localhost:8080/",
          "height": 98
        },
        "id": "YAUMq5sP8D-y",
        "outputId": "2125590c-beaa-458d-ae67-ce8101d79610"
      },
      "execution_count": 26,
      "outputs": [
        {
          "output_type": "execute_result",
          "data": {
            "text/plain": [
              "                     Source Category Headline  \\\n",
              "10670  Daily Nations Zambia      NaN      NaN   \n",
              "\n",
              "                                                    Link  \\\n",
              "10670  https://dailynationzambia.com/2021/03/10304/?u...   \n",
              "\n",
              "                                             Description  \\\n",
              "10670  Mon, 30 Nov -0001 00:00:00 +0000 WARRIORS HOLD...   \n",
              "\n",
              "                                  Date        Author  \n",
              "10670  Sun, 07 Mar 2021 10:31:11 +0000  Daily Nation  "
            ],
            "text/html": [
              "\n",
              "  <div id=\"df-00a4cdf9-3cf5-485c-b61c-79f4986b9295\" class=\"colab-df-container\">\n",
              "    <div>\n",
              "<style scoped>\n",
              "    .dataframe tbody tr th:only-of-type {\n",
              "        vertical-align: middle;\n",
              "    }\n",
              "\n",
              "    .dataframe tbody tr th {\n",
              "        vertical-align: top;\n",
              "    }\n",
              "\n",
              "    .dataframe thead th {\n",
              "        text-align: right;\n",
              "    }\n",
              "</style>\n",
              "<table border=\"1\" class=\"dataframe\">\n",
              "  <thead>\n",
              "    <tr style=\"text-align: right;\">\n",
              "      <th></th>\n",
              "      <th>Source</th>\n",
              "      <th>Category</th>\n",
              "      <th>Headline</th>\n",
              "      <th>Link</th>\n",
              "      <th>Description</th>\n",
              "      <th>Date</th>\n",
              "      <th>Author</th>\n",
              "    </tr>\n",
              "  </thead>\n",
              "  <tbody>\n",
              "    <tr>\n",
              "      <th>10670</th>\n",
              "      <td>Daily Nations Zambia</td>\n",
              "      <td>NaN</td>\n",
              "      <td>NaN</td>\n",
              "      <td>https://dailynationzambia.com/2021/03/10304/?u...</td>\n",
              "      <td>Mon, 30 Nov -0001 00:00:00 +0000 WARRIORS HOLD...</td>\n",
              "      <td>Sun, 07 Mar 2021 10:31:11 +0000</td>\n",
              "      <td>Daily Nation</td>\n",
              "    </tr>\n",
              "  </tbody>\n",
              "</table>\n",
              "</div>\n",
              "    <div class=\"colab-df-buttons\">\n",
              "\n",
              "  <div class=\"colab-df-container\">\n",
              "    <button class=\"colab-df-convert\" onclick=\"convertToInteractive('df-00a4cdf9-3cf5-485c-b61c-79f4986b9295')\"\n",
              "            title=\"Convert this dataframe to an interactive table.\"\n",
              "            style=\"display:none;\">\n",
              "\n",
              "  <svg xmlns=\"http://www.w3.org/2000/svg\" height=\"24px\" viewBox=\"0 -960 960 960\">\n",
              "    <path d=\"M120-120v-720h720v720H120Zm60-500h600v-160H180v160Zm220 220h160v-160H400v160Zm0 220h160v-160H400v160ZM180-400h160v-160H180v160Zm440 0h160v-160H620v160ZM180-180h160v-160H180v160Zm440 0h160v-160H620v160Z\"/>\n",
              "  </svg>\n",
              "    </button>\n",
              "\n",
              "  <style>\n",
              "    .colab-df-container {\n",
              "      display:flex;\n",
              "      gap: 12px;\n",
              "    }\n",
              "\n",
              "    .colab-df-convert {\n",
              "      background-color: #E8F0FE;\n",
              "      border: none;\n",
              "      border-radius: 50%;\n",
              "      cursor: pointer;\n",
              "      display: none;\n",
              "      fill: #1967D2;\n",
              "      height: 32px;\n",
              "      padding: 0 0 0 0;\n",
              "      width: 32px;\n",
              "    }\n",
              "\n",
              "    .colab-df-convert:hover {\n",
              "      background-color: #E2EBFA;\n",
              "      box-shadow: 0px 1px 2px rgba(60, 64, 67, 0.3), 0px 1px 3px 1px rgba(60, 64, 67, 0.15);\n",
              "      fill: #174EA6;\n",
              "    }\n",
              "\n",
              "    .colab-df-buttons div {\n",
              "      margin-bottom: 4px;\n",
              "    }\n",
              "\n",
              "    [theme=dark] .colab-df-convert {\n",
              "      background-color: #3B4455;\n",
              "      fill: #D2E3FC;\n",
              "    }\n",
              "\n",
              "    [theme=dark] .colab-df-convert:hover {\n",
              "      background-color: #434B5C;\n",
              "      box-shadow: 0px 1px 3px 1px rgba(0, 0, 0, 0.15);\n",
              "      filter: drop-shadow(0px 1px 2px rgba(0, 0, 0, 0.3));\n",
              "      fill: #FFFFFF;\n",
              "    }\n",
              "  </style>\n",
              "\n",
              "    <script>\n",
              "      const buttonEl =\n",
              "        document.querySelector('#df-00a4cdf9-3cf5-485c-b61c-79f4986b9295 button.colab-df-convert');\n",
              "      buttonEl.style.display =\n",
              "        google.colab.kernel.accessAllowed ? 'block' : 'none';\n",
              "\n",
              "      async function convertToInteractive(key) {\n",
              "        const element = document.querySelector('#df-00a4cdf9-3cf5-485c-b61c-79f4986b9295');\n",
              "        const dataTable =\n",
              "          await google.colab.kernel.invokeFunction('convertToInteractive',\n",
              "                                                    [key], {});\n",
              "        if (!dataTable) return;\n",
              "\n",
              "        const docLinkHtml = 'Like what you see? Visit the ' +\n",
              "          '<a target=\"_blank\" href=https://colab.research.google.com/notebooks/data_table.ipynb>data table notebook</a>'\n",
              "          + ' to learn more about interactive tables.';\n",
              "        element.innerHTML = '';\n",
              "        dataTable['output_type'] = 'display_data';\n",
              "        await google.colab.output.renderOutput(dataTable, element);\n",
              "        const docLink = document.createElement('div');\n",
              "        docLink.innerHTML = docLinkHtml;\n",
              "        element.appendChild(docLink);\n",
              "      }\n",
              "    </script>\n",
              "  </div>\n",
              "\n",
              "    </div>\n",
              "  </div>\n"
            ],
            "application/vnd.google.colaboratory.intrinsic+json": {
              "type": "dataframe",
              "repr_error": "0"
            }
          },
          "metadata": {},
          "execution_count": 26
        }
      ]
    },
    {
      "cell_type": "code",
      "source": [
        "# Checking the row with null headline\n",
        "print(data.loc[10670])"
      ],
      "metadata": {
        "colab": {
          "base_uri": "https://localhost:8080/"
        },
        "id": "KqVP_MfVCWpk",
        "outputId": "c837dce9-5d0f-436b-f667-a230fe9135b3"
      },
      "execution_count": 27,
      "outputs": [
        {
          "output_type": "stream",
          "name": "stdout",
          "text": [
            "Source                                      Daily Nations Zambia\n",
            "Category                                                     NaN\n",
            "Headline                                                     NaN\n",
            "Link           https://dailynationzambia.com/2021/03/10304/?u...\n",
            "Description    Mon, 30 Nov -0001 00:00:00 +0000 WARRIORS HOLD...\n",
            "Date                             Sun, 07 Mar 2021 10:31:11 +0000\n",
            "Author                                              Daily Nation\n",
            "Name: 10670, dtype: object\n"
          ]
        }
      ]
    },
    {
      "cell_type": "markdown",
      "source": [
        "Checked the link, it is legit, so mybe let's keep it for now\n"
      ],
      "metadata": {
        "id": "8uNj67_bNFMj"
      }
    },
    {
      "cell_type": "markdown",
      "source": [
        "### 2. Text Preprocessing"
      ],
      "metadata": {
        "id": "5lSWjqt0Nbrj"
      }
    },
    {
      "cell_type": "markdown",
      "source": [
        "let's take a look at one of the contents"
      ],
      "metadata": {
        "id": "iZbHMP6PSjum"
      }
    },
    {
      "cell_type": "code",
      "source": [
        "print(data.loc[0]['Description'])"
      ],
      "metadata": {
        "colab": {
          "base_uri": "https://localhost:8080/"
        },
        "id": "tV9-8BDaCb7F",
        "outputId": "cea08727-055b-4979-ac75-fa9b05cb6b56"
      },
      "execution_count": 28,
      "outputs": [
        {
          "output_type": "stream",
          "name": "stdout",
          "text": [
            "MWILA NTAMBI Kitwe COPPERBELT University (CBU) in Kitwe has launched construction of a 1,000-seater auditorium at K8 million. CBU vice-chancellor Imasiku Nyambe says building of the auditorium is a milestone as it will enhance infrastructure and the learning environment at the higher learning institution. He said once finished, the auditorium will host academic conferences and [&#8230;]\n"
          ]
        }
      ]
    },
    {
      "cell_type": "markdown",
      "source": [
        "The sequence `&#8230`; is an HTML entity that represents an ellipsis (…), which is a punctuation mark consisting of three dots. It is commonly used to indicate that content has been truncated or is continuing.\n",
        "In the context of RSS feeds:\n",
        "When you see &#8230; at the end of a news content snippet, it usually means that the article content has been shortened or truncated in the feed."
      ],
      "metadata": {
        "id": "SAZ1bCGd0GQZ"
      }
    },
    {
      "cell_type": "code",
      "source": [
        "def process_text(data, text_column='Description'):\n",
        "    # Initialize the lemmatizer and stop words set\n",
        "    lemmatizer = WordNetLemmatizer()\n",
        "    stop_words = set(stopwords.words('english'))\n",
        "\n",
        "    # Define a function for processing each text entry\n",
        "    def clean_text(text):\n",
        "        # Remove URLs\n",
        "        text = re.sub(r\"http\\S+\", \"\", text)\n",
        "        # Remove ellipses (both … and &#8230;)\n",
        "        text = re.sub(r'…|&#8230;', '', text)\n",
        "        # Tokenize, lower case, remove stopwords, punctuation, and lemmatize\n",
        "        tokens = [\n",
        "            lemmatizer.lemmatize(word.lower())\n",
        "            for word in word_tokenize(text)\n",
        "            if word.lower() not in stop_words and word not in string.punctuation\n",
        "        ]\n",
        "        return ' '.join(tokens)\n",
        "\n",
        "    # Apply the cleaning function to the specified text column\n",
        "    data['tokens'] = (data[text_column].apply(clean_text))\n",
        "\n",
        "    # Optionally, you can create a cleaned text version as well\n",
        "    data['cleaned_text'] = data[text_column].apply(lambda x: re.sub(r\"http\\S+\", \"\", x))\n",
        "\n",
        "    return data\n"
      ],
      "metadata": {
        "id": "kAAfjuUoSKHg"
      },
      "execution_count": 29,
      "outputs": []
    },
    {
      "cell_type": "code",
      "source": [
        "data = process_text(data)"
      ],
      "metadata": {
        "id": "ti586H0fZTij"
      },
      "execution_count": 30,
      "outputs": []
    },
    {
      "cell_type": "code",
      "source": [
        "data['tokens'].loc[0]"
      ],
      "metadata": {
        "colab": {
          "base_uri": "https://localhost:8080/",
          "height": 52
        },
        "id": "962Oy1BRYqfT",
        "outputId": "60d83de0-35d8-4d20-8b47-930a2c80431d"
      },
      "execution_count": 31,
      "outputs": [
        {
          "output_type": "execute_result",
          "data": {
            "text/plain": [
              "'mwila ntambi kitwe copperbelt university cbu kitwe launched construction 1,000-seater auditorium k8 million cbu vice-chancellor imasiku nyambe say building auditorium milestone enhance infrastructure learning environment higher learning institution said finished auditorium host academic conference'"
            ],
            "application/vnd.google.colaboratory.intrinsic+json": {
              "type": "string"
            }
          },
          "metadata": {},
          "execution_count": 31
        }
      ]
    },
    {
      "cell_type": "code",
      "source": [
        "data['Description'].loc[0]"
      ],
      "metadata": {
        "colab": {
          "base_uri": "https://localhost:8080/",
          "height": 70
        },
        "id": "aAsC4YUuYsZd",
        "outputId": "3325dd3a-00d6-4d7e-953b-36291f284cb5"
      },
      "execution_count": 32,
      "outputs": [
        {
          "output_type": "execute_result",
          "data": {
            "text/plain": [
              "'MWILA NTAMBI Kitwe COPPERBELT University (CBU) in Kitwe has launched construction of a 1,000-seater auditorium at K8 million. CBU vice-chancellor Imasiku Nyambe says building of the auditorium is a milestone as it will enhance infrastructure and the learning environment at the higher learning institution. He said once finished, the auditorium will host academic conferences and [&#8230;]'"
            ],
            "application/vnd.google.colaboratory.intrinsic+json": {
              "type": "string"
            }
          },
          "metadata": {},
          "execution_count": 32
        }
      ]
    },
    {
      "cell_type": "code",
      "source": [
        " # Save the cleaned dataframe\n",
        "data.to_csv('/content/drive/MyDrive/Colab Notebooks/Omdena Kitwe News Aggregator/cleaned_news_data.csv', index=False)"
      ],
      "metadata": {
        "id": "P40e6Eu9ZuiP"
      },
      "execution_count": 33,
      "outputs": []
    }
  ]
}